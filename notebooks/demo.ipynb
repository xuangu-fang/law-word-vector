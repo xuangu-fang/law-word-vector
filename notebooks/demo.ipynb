{
 "cells": [
  {
   "cell_type": "code",
   "execution_count": 1,
   "metadata": {},
   "outputs": [
    {
     "name": "stdout",
     "output_type": "stream",
     "text": [
      "数据加载成功!\n",
      "\n",
      "数据基本信息:\n",
      "<class 'pandas.core.frame.DataFrame'>\n",
      "RangeIndex: 31721 entries, 0 to 31720\n",
      "Data columns (total 5 columns):\n",
      " #   Column  Non-Null Count  Dtype  \n",
      "---  ------  --------------  -----  \n",
      " 0   年份      31719 non-null  float64\n",
      " 1   日期      31721 non-null  object \n",
      " 2   报纸版次    31720 non-null  object \n",
      " 3   标题      31719 non-null  object \n",
      " 4   文本内容    31718 non-null  object \n",
      "dtypes: float64(1), object(4)\n",
      "memory usage: 1.2+ MB\n",
      "None\n",
      "\n",
      "前5行数据预览:\n",
      "       年份          日期 报纸版次                      标题  \\\n",
      "0  1990.0  1990-01-01  第2版                纺织品喜添新家族   \n",
      "1  1990.0  1990-01-01  第4版                 祖国的早晨图片   \n",
      "2  1990.0  1990-01-01  第2版                    精心部署   \n",
      "3  1990.0  1990-01-01  第1版         中央领导同民主党派党外人士座谈   \n",
      "4  1990.0  1990-01-01  第1版  江泽民总书记新年前夕接受记者采访谈国内外形势   \n",
      "\n",
      "                                                文本内容  \n",
      "0   纺织品喜添新家族 多功能涂层、复合织物在沪亮相 吴复民 1990-01-01 第2版(国内...  \n",
      "1   祖国的早晨（图片） 刘称奇 1990-01-01 第4版(画刊) 专栏： 祖国的早晨 （年...  \n",
      "2   精心部署 措施落实 上海广东妥善安排春运 梁兆明 1990-01-01 第2版(国内新闻)...  \n",
      "3   中央领导同民主党派党外人士座谈 共商坚持完善中共领导的多党合作和政治协商制 孙本尧 199...  \n",
      "4   江泽民总书记新年前夕接受记者采访谈国内外形势 中国八十年代的三大任务取得很大成就 九十年代...  \n"
     ]
    }
   ],
   "source": [
    "import pandas as pd\n",
    "import os\n",
    "from pathlib import Path\n",
    "\n",
    "# 设置数据根目录\n",
    "data_root = Path.home() / \"data\" / \"rmrb-year\"\n",
    "\n",
    "def load_rmrb_data(year: int) -> pd.DataFrame:\n",
    "    \"\"\"\n",
    "    加载指定年份的人民日报数据\n",
    "    \n",
    "    Args:\n",
    "        year: 年份 (1946-2024)\n",
    "        \n",
    "    Returns:\n",
    "        包含该年份人民日报文本数据的DataFrame\n",
    "    \"\"\"\n",
    "    if not 1946 <= year <= 2024:\n",
    "        raise ValueError(\"年份必须在1946-2024之间\")\n",
    "        \n",
    "    filename = f\"分年份保存数据/人民日报{year}年文本数据.xlsx\"\n",
    "    file_path = data_root  / filename\n",
    "    \n",
    "    if not file_path.exists():\n",
    "        raise FileNotFoundError(f\"找不到{year}年的数据文件: {file_path}\")\n",
    "        \n",
    "    df = pd.read_excel(file_path)\n",
    "    return df\n",
    "\n",
    "# 测试读取1990年的数据\n",
    "try:\n",
    "    df_1990 = load_rmrb_data(1990)\n",
    "    print(\"数据加载成功!\")\n",
    "    print(\"\\n数据基本信息:\")\n",
    "    print(df_1990.info())\n",
    "    print(\"\\n前5行数据预览:\")\n",
    "    print(df_1990.head())\n",
    "except FileNotFoundError as e:\n",
    "    print(f\"错误: {e}\")\n",
    "except Exception as e:\n",
    "    print(f\"发生未知错误: {e}\")\n"
   ]
  },
  {
   "cell_type": "code",
   "execution_count": 2,
   "metadata": {},
   "outputs": [
    {
     "data": {
      "text/plain": [
       "'/data/userdata//fangshikai/gensim-data'"
      ]
     },
     "execution_count": 2,
     "metadata": {},
     "output_type": "execute_result"
    }
   ],
   "source": [
    "from gensim.models import KeyedVectors\n",
    "from gensim.downloader import base_dir\n",
    "import os\n",
    "\n",
    "base_dir"
   ]
  },
  {
   "cell_type": "code",
   "execution_count": 3,
   "metadata": {},
   "outputs": [
    {
     "name": "stdout",
     "output_type": "stream",
     "text": [
      "开始下载中文词向量模型...\n",
      "发现本地已有模型,正在加载...\n",
      "本地模型加载成功!\n",
      "\n",
      "测试一些词的相似度:\n",
      "'法制'和'治理'的相似度: 0.39143848\n",
      "\n",
      "与'法制'最相似的5个词:\n",
      "[('法治', 0.7596691250801086), ('網北京', 0.6227442622184753), ('民主', 0.5542482733726501), ('法律', 0.5525763630867004), ('輯刊', 0.5451518893241882), ('司法', 0.5400424003601074), ('普法', 0.5254901051521301), ('成对照', 0.5251033306121826), ('普法网', 0.5246453881263733), ('政法', 0.5194897651672363)]\n"
     ]
    }
   ],
   "source": [
    "# 使用gensim下载预训练的中文词向量\n",
    "from gensim.models import KeyedVectors\n",
    "from gensim.downloader import base_dir\n",
    "import os\n",
    "\n",
    "# 设置下载目录\n",
    "DOWNLOAD_DIR = os.path.join(base_dir, \"vectors\")\n",
    "os.makedirs(DOWNLOAD_DIR, exist_ok=True)\n",
    "\n",
    "# 尝试加载腾讯AI实验室的预训练词向量\n",
    "# 注意:这个文件较大(约6.7GB),首次下载可能需要一些时间\n",
    "print(\"开始下载中文词向量模型...\")\n",
    "try:\n",
    "    # 检查本地是否已有保存的模型\n",
    "    local_path = os.path.join(DOWNLOAD_DIR, \"chinese_vectors.kv\")\n",
    "    if os.path.exists(local_path):\n",
    "        print(\"发现本地已有模型,正在加载...\")\n",
    "        word_vectors = KeyedVectors.load(local_path)\n",
    "        print(\"本地模型加载成功!\")\n",
    "    else:\n",
    "        print(\"本地未找到模型,开始下载...\")\n",
    "        word_vectors = KeyedVectors.load_word2vec_format(\n",
    "            'https://dl.fbaipublicfiles.com/fasttext/vectors-crawl/cc.zh.300.vec.gz',\n",
    "            binary=False\n",
    "        )\n",
    "        print(\"词向量模型下载成功!\")\n",
    "        \n",
    "        # 保存模型到本地\n",
    "        word_vectors.save(local_path)\n",
    "        print(f\"模型已保存到: {local_path}\")\n",
    "    \n",
    "    # 简单测试\n",
    "    print(\"\\n测试一些词的相似度:\")\n",
    "    print(\"'法制'和'治理'的相似度:\", word_vectors.similarity('法制', '治理'))\n",
    "    print(\"\\n与'法制'最相似的5个词:\")\n",
    "    print(word_vectors.most_similar('法制', topn=10))\n",
    "    \n",
    "except Exception as e:\n",
    "    print(f\"下载或加载词向量时发生错误: {e}\")\n",
    "    print(\"提示: 您也可以手动下载其他开源的中文词向量，如:\")\n",
    "    print(\"1. 腾讯词向量: https://ai.tencent.com/ailab/nlp/en/embedding.html\")\n",
    "    print(\"2. 哈工大词向量: https://github.com/nghuyong/Chinese-Word-Vectors\")\n"
   ]
  },
  {
   "cell_type": "code",
   "execution_count": 4,
   "metadata": {},
   "outputs": [
    {
     "name": "stdout",
     "output_type": "stream",
     "text": [
      "\n",
      "与'法治'最相似的10个词:\n",
      "1. 法制: 0.7597\n",
      "2. 法治化: 0.6360\n",
      "3. 民主: 0.6080\n",
      "4. 人治: 0.6059\n",
      "5. 宪政: 0.5964\n",
      "6. 司法: 0.5771\n",
      "7. 法律: 0.5632\n",
      "8. 法治论: 0.5506\n",
      "9. 司法獨立: 0.5471\n",
      "10. 法管: 0.5366\n"
     ]
    }
   ],
   "source": [
    "similar_words = word_vectors.most_similar('法治', topn=10)\n",
    "print(\"\\n与'法治'最相似的10个词:\")\n",
    "for i, (word, score) in enumerate(similar_words, 1):\n",
    "    print(f\"{i}. {word}: {score:.4f}\")"
   ]
  }
 ],
 "metadata": {
  "kernelspec": {
   "display_name": "law_word_vector",
   "language": "python",
   "name": "python3"
  },
  "language_info": {
   "codemirror_mode": {
    "name": "ipython",
    "version": 3
   },
   "file_extension": ".py",
   "mimetype": "text/x-python",
   "name": "python",
   "nbconvert_exporter": "python",
   "pygments_lexer": "ipython3",
   "version": "3.9.21"
  }
 },
 "nbformat": 4,
 "nbformat_minor": 2
}
