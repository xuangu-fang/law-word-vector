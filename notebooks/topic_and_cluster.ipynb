{
 "cells": [
  {
   "cell_type": "code",
   "execution_count": 1,
   "metadata": {},
   "outputs": [
    {
     "name": "stdout",
     "output_type": "stream",
     "text": [
      "字体已存在: /home/fangshikai/.fonts/SimHei.ttf\n",
      "刷新字体缓存...\n",
      "成功设置中文字体\n",
      "使用固定时期模型目录: /home/fangshikai/law-word-vector/models/fine_tuned_vectors_flexible\n",
      "找到 3 个模型文件:\n",
      "  加载模型: Era1_1978-1996\n",
      "  成功加载 Era1_1978-1996, 词汇量: 4874\n",
      "  加载模型: Era2_1997-2013\n",
      "  成功加载 Era2_1997-2013, 词汇量: 4992\n",
      "  加载模型: Era3_2014-2024\n",
      "  成功加载 Era3_2014-2024, 词汇量: 5000\n",
      "\n",
      "成功加载了 3 个模型:\n",
      "  Era1_1978-1996: 词汇量 4874\n",
      "  Era2_1997-2013: 词汇量 4992\n",
      "  Era3_2014-2024: 词汇量 5000\n"
     ]
    }
   ],
   "source": [
    "import os\n",
    "import numpy as np\n",
    "import pandas as pd\n",
    "import matplotlib.pyplot as plt\n",
    "import seaborn as sns\n",
    "from pathlib import Path\n",
    "from gensim.models import KeyedVectors\n",
    "import matplotlib.font_manager as fm\n",
    "from sklearn.manifold import TSNE\n",
    "from matplotlib.colors import LinearSegmentedColormap\n",
    "import matplotlib.colors as mcolors\n",
    "import sys\n",
    "from pathlib import Path\n",
    "import sklearn\n",
    "\n",
    "# 设置更好的可视化风格\n",
    "plt.style.use('seaborn-v0_8-whitegrid')\n",
    "sns.set(font_scale=1.2)\n",
    "sns.set_style(\"whitegrid\")\n",
    "# 假设notebooks目录在项目根目录下\n",
    "project_root = Path.cwd().parent\n",
    "sys.path.append(str(project_root))\n",
    "from src.utils import download_chinese_font\n",
    "import src.utils as utils\n",
    "# 下载并安装字体\n",
    "font_path = download_chinese_font()\n",
    "\n",
    "# 设置matplotlib使用下载的字体\n",
    "if font_path:\n",
    "    plt.rcParams['font.sans-serif'] = ['SimHei'] + plt.rcParams['font.sans-serif']\n",
    "    print(\"成功设置中文字体\")\n",
    "else:\n",
    "    print(\"无法设置中文字体，将使用替代方案\")\n",
    "\n",
    "plt.rcParams['axes.unicode_minus'] = False  # 用来正常显示负号\n",
    "\n",
    "\n",
    "\n",
    "# 定义项目根目录和模型目录\n",
    "PROJECT_ROOT = Path.cwd().parent\n",
    "MODELS_DIR = PROJECT_ROOT / \"models\"\n",
    "\n",
    "# 可能的模型目录\n",
    "FINE_TUNED_MODELS_DIR = MODELS_DIR / \"fine_tuned_vectors_flexible\"\n",
    "SLIDING_WINDOW_MODELS_DIR = MODELS_DIR / \"fine_tuned_vectors_sliding_window\"\n",
    "\n",
    "# 检查哪个目录存在并包含模型\n",
    "if FINE_TUNED_MODELS_DIR.exists() and any(FINE_TUNED_MODELS_DIR.glob(\"*_wordvectors.kv\")):\n",
    "    MODELS_DIR = FINE_TUNED_MODELS_DIR\n",
    "    print(f\"使用固定时期模型目录: {MODELS_DIR}\")\n",
    "elif SLIDING_WINDOW_MODELS_DIR.exists():\n",
    "    # 查找滑动窗口模型的子目录\n",
    "    subdirs = [d for d in SLIDING_WINDOW_MODELS_DIR.iterdir() if d.is_dir()]\n",
    "    if subdirs:\n",
    "        MODELS_DIR = subdirs[0]  # 使用第一个子目录\n",
    "        print(f\"使用滑动窗口模型目录: {MODELS_DIR}\")\n",
    "    else:\n",
    "        print(f\"滑动窗口模型目录存在，但没有子目录\")\n",
    "else:\n",
    "    print(f\"未找到模型目录，使用默认路径: {MODELS_DIR}\")\n",
    "\n",
    "\n",
    "\n",
    "# 加载模型\n",
    "models = utils.load_models(MODELS_DIR=MODELS_DIR)\n",
    "\n",
    "# 检查模型是否成功加载\n",
    "if not models:\n",
    "    print(\"没有成功加载任何模型，请检查模型路径\")\n",
    "else:\n",
    "    print(f\"\\n成功加载了 {len(models)} 个模型:\")\n",
    "    for period_name, model in models.items():\n",
    "        print(f\"  {period_name}: 词汇量 {len(model.index_to_key)}\")"
   ]
  },
  {
   "cell_type": "code",
   "execution_count": 3,
   "metadata": {},
   "outputs": [
    {
     "name": "stdout",
     "output_type": "stream",
     "text": [
      "已加载 Era1_1978-1996 词表，包含 150 个词\n",
      "已加载 Era2_1997-2013 词表，包含 150 个词\n",
      "已加载 Era3_2014-2024 词表，包含 150 个词\n",
      "已加载 17 个排除词\n",
      "Era1_1978-1996: 过滤后保留 149 个词\n",
      "Era2_1997-2013: 过滤后保留 148 个词\n",
      "Era3_2014-2024: 过滤后保留 148 个词\n",
      "所有时期共有词: 41 个\n",
      "所有时期词汇并集: 284 个\n"
     ]
    }
   ],
   "source": [
    "# 定义各时期词表文件路径\n",
    "era_files = {\n",
    "    'Era1_1978-1996': 'similar_words/Era1_1978-1996_final.txt',\n",
    "    'Era2_1997-2013': 'similar_words/Era2_1997-2013_final.txt',\n",
    "    'Era3_2014-2024': 'similar_words/Era3_2014-2024_final.txt'\n",
    "}\n",
    "\n",
    "# 读取所有时期的词表\n",
    "similar_words_by_period = {}\n",
    "for era, file_path in era_files.items():\n",
    "    word_list = utils.load_expert_word_list(file_path)\n",
    "    if word_list:\n",
    "        print(f\"已加载 {era} 词表，包含 {len(word_list)} 个词\")\n",
    "        similar_words_by_period[era] = word_list\n",
    "    else:\n",
    "        print(f\"警告: {era} 词表为空\")\n",
    "# similar_words_by_period = update_sim\n",
    "intersection, union, filtered_similar_words = utils.get_word_sets(similar_words_by_period, top_n=150, exclude_words_path=\"exclude_words.txt\")\n",
    "# similar_words_by_period_union = build_similar_words_by_period_from_word_list(models, \"法治\",union )\n"
   ]
  },
  {
   "cell_type": "code",
   "execution_count": 5,
   "metadata": {},
   "outputs": [],
   "source": []
  }
 ],
 "metadata": {
  "kernelspec": {
   "display_name": "law_word_vector",
   "language": "python",
   "name": "python3"
  },
  "language_info": {
   "codemirror_mode": {
    "name": "ipython",
    "version": 3
   },
   "file_extension": ".py",
   "mimetype": "text/x-python",
   "name": "python",
   "nbconvert_exporter": "python",
   "pygments_lexer": "ipython3",
   "version": "3.9.21"
  }
 },
 "nbformat": 4,
 "nbformat_minor": 2
}
